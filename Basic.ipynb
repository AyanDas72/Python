{
 "cells": [
  {
   "cell_type": "markdown",
   "id": "b35c8e59",
   "metadata": {},
   "source": [
    "## Python Conditional Statement Exercises\n"
   ]
  },
  {
   "cell_type": "code",
   "execution_count": null,
   "id": "d5693a9e",
   "metadata": {},
   "outputs": [
    {
     "name": "stdout",
     "output_type": "stream",
     "text": [
      "0 1 1 2 3 "
     ]
    }
   ],
   "source": [
    "# 1. Python Conditional Statement Exercises\n",
    "fib_n = int(input(\"Enter n for fib :\"))\n",
    "a,b=0,1\n",
    "for _ in range(fib_n):\n",
    "    print(a, end=\" \")\n",
    "    a,b=b,a+b\n",
    "\n",
    "def fibonacci_recursive(n):\n",
    "    if n <= 1:\n",
    "        return n\n",
    "    else:\n",
    "        return fibonacci_recursive(n-1) + fibonacci_recursive(n-2)\n",
    "\n",
    "# Print first 10 terms\n",
    "for i in range(10):\n",
    "    print(fibonacci_recursive(i), end=' ')\n"
   ]
  },
  {
   "cell_type": "code",
   "execution_count": 8,
   "id": "caf11de1",
   "metadata": {},
   "outputs": [
    {
     "name": "stdout",
     "output_type": "stream",
     "text": [
      "Not Prime\n"
     ]
    }
   ],
   "source": [
    "## 2. Check if a number is prime\n",
    "def isprime(prime_n):\n",
    "    for i in range(2,prime_n//2):\n",
    "        if prime_n%i == 0 :\n",
    "            print(\"Not Prime\")\n",
    "            return\n",
    "    print(\"Prime Number\")\n",
    "    return\n",
    "\n",
    "isprime(9)\n",
    "        "
   ]
  },
  {
   "cell_type": "code",
   "execution_count": null,
   "id": "5a6411d4",
   "metadata": {},
   "outputs": [
    {
     "name": "stdout",
     "output_type": "stream",
     "text": [
      "7651\n"
     ]
    }
   ],
   "source": [
    "## 3. Reverse a number\n",
    "def revNum(rev_n):\n",
    "    rev = 0\n",
    "    while rev_n != 0 :\n",
    "        dig = rev_n%10\n",
    "        rev_n = rev_n//10\n",
    "        rev = rev * 10 + dig\n",
    "    print(rev)\n",
    "\n",
    "revNum(1567)"
   ]
  },
  {
   "cell_type": "code",
   "execution_count": 23,
   "id": "f8525ae8",
   "metadata": {},
   "outputs": [
    {
     "name": "stdout",
     "output_type": "stream",
     "text": [
      "3 4\n"
     ]
    }
   ],
   "source": [
    "## 4. Count vowels and consonants in a string\n",
    "def VCcount(VCstr):\n",
    "    v,c = 0 ,0\n",
    "    for ch in VCstr:\n",
    "        if ch.lower() in 'aeiou':\n",
    "            v = v+1\n",
    "        else : \n",
    "            c=c+1\n",
    "    print(v, c)\n",
    "\n",
    "VCcount(\"AYANdas\")\n"
   ]
  },
  {
   "cell_type": "code",
   "execution_count": 25,
   "id": "a1af934a",
   "metadata": {},
   "outputs": [
    {
     "name": "stdout",
     "output_type": "stream",
     "text": [
      "120\n"
     ]
    }
   ],
   "source": [
    "## 5. Find factorial using recursion\n",
    "def fact(fact_n):\n",
    "    if fact_n == 0 or fact_n == 1:\n",
    "        return 1\n",
    "    else:\n",
    "        return fact_n * fact(fact_n - 1)\n",
    "    \n",
    "num = 5\n",
    "print(fact(num))\n"
   ]
  },
  {
   "cell_type": "code",
   "execution_count": 39,
   "id": "40e38b7e",
   "metadata": {},
   "outputs": [
    {
     "name": "stdout",
     "output_type": "stream",
     "text": [
      "palindrome\n",
      "palindrome\n",
      "Not palindrome\n",
      "Not palindrome\n"
     ]
    }
   ],
   "source": [
    "## 6. Check palindrome number/string\n",
    "def ispalindrome(p_n):\n",
    "    if type(p_n) == int:\n",
    "        rev = 0\n",
    "        rev_n = p_n\n",
    "        while rev_n != 0 :\n",
    "            dig = rev_n%10\n",
    "            rev_n = rev_n//10\n",
    "            rev = rev * 10 + dig\n",
    "        if p_n == rev:\n",
    "            print(\"palindrome\")\n",
    "        else:\n",
    "            print(\"not palindrome\")\n",
    "    elif type(p_n)== str:\n",
    "        revs = p_n[::-1]\n",
    "        if p_n == revs:\n",
    "            print(\"palindrome\")\n",
    "        else:\n",
    "            print(\"not palindrome\")\n",
    "    else:\n",
    "        print(\"Error...!!\")\n",
    "\n",
    "ispalindrome('aya')\n",
    "ispalindrome(1234321)\n",
    "\n",
    "\n",
    "\n",
    "def palindrome(value):\n",
    "    value_str = str(value)\n",
    "    if value_str == value_str[::-1]:\n",
    "        print(\"Palindrome\")\n",
    "    else:\n",
    "        print(\"Not palindrome\")\n",
    "\n",
    "palindrome('ayan')\n",
    "palindrome(123432)\n",
    "\n"
   ]
  },
  {
   "cell_type": "code",
   "execution_count": 40,
   "id": "9b7bf52a",
   "metadata": {},
   "outputs": [
    {
     "name": "stdout",
     "output_type": "stream",
     "text": [
      "6\n"
     ]
    }
   ],
   "source": [
    "## 7. Sum of digits of a number\n",
    "def Sum(sum_dig):\n",
    "    sum = 0\n",
    "    while sum_dig != 0 :\n",
    "        dig = sum_dig%10\n",
    "        sum_dig = sum_dig//10\n",
    "        sum=sum+dig\n",
    "    print(sum)\n",
    "\n",
    "Sum(123)"
   ]
  },
  {
   "cell_type": "code",
   "execution_count": 43,
   "id": "f6861884",
   "metadata": {},
   "outputs": [
    {
     "name": "stdout",
     "output_type": "stream",
     "text": [
      "1. Add  2. Sub  3. Div  4. Mul\n",
      "9\n"
     ]
    }
   ],
   "source": [
    "## 8. Simple calculator using if-elif-else\n",
    "def cal(a, b, op):\n",
    "    if op == 1:\n",
    "        print(a + b)\n",
    "    elif op == 2:\n",
    "        print(abs(a - b))\n",
    "    elif op == 3:\n",
    "        print(a / b if b != 0 else \"Division by zero!\")\n",
    "    elif op == 4:\n",
    "        print(a * b)\n",
    "    else:\n",
    "        print(\"Invalid choice!\")\n",
    "\n",
    "print(\"1. Add  2. Sub  3. Div  4. Mul\")\n",
    "choice = int(input(\"your choice: \"))\n",
    "x = int(input(\"first number: \"))\n",
    "y = int(input(\"second number: \"))\n",
    "cal(x, y, choice)\n"
   ]
  },
  {
   "cell_type": "code",
   "execution_count": 45,
   "id": "5463e370",
   "metadata": {},
   "outputs": [
    {
     "name": "stdout",
     "output_type": "stream",
     "text": [
      "9 x 1 = 9\n",
      "9 x 2 = 18\n",
      "9 x 3 = 27\n",
      "9 x 4 = 36\n",
      "9 x 5 = 45\n",
      "9 x 6 = 54\n",
      "9 x 7 = 63\n",
      "9 x 8 = 72\n",
      "9 x 9 = 81\n",
      "9 x 10 = 90\n"
     ]
    }
   ],
   "source": [
    "## 9. Print a multiplication table\n",
    "def table(n):\n",
    "    for i in range(1,11):\n",
    "        print(f\"{n} x {i} = {n*i}\")\n",
    "\n",
    "table(9)"
   ]
  },
  {
   "cell_type": "code",
   "execution_count": 47,
   "id": "568f3924",
   "metadata": {},
   "outputs": [
    {
     "name": "stdout",
     "output_type": "stream",
     "text": [
      "2000 is leap year\n"
     ]
    }
   ],
   "source": [
    "## 10. Check leap year\n",
    "def leap(n):\n",
    "    if n%4==0 and n%100 != 0:\n",
    "        print(n,\"is leap year\")\n",
    "    elif n%400 == 0:\n",
    "        print(n,\"is leap year\")\n",
    "    else:\n",
    "        print(n,\"is not leap year\")\n",
    "\n",
    "leap(2000)"
   ]
  }
 ],
 "metadata": {
  "kernelspec": {
   "display_name": "Python 3",
   "language": "python",
   "name": "python3"
  },
  "language_info": {
   "codemirror_mode": {
    "name": "ipython",
    "version": 3
   },
   "file_extension": ".py",
   "mimetype": "text/x-python",
   "name": "python",
   "nbconvert_exporter": "python",
   "pygments_lexer": "ipython3",
   "version": "3.12.0"
  }
 },
 "nbformat": 4,
 "nbformat_minor": 5
}
