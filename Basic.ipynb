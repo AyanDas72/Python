{
 "cells": [
  {
   "cell_type": "markdown",
   "id": "b35c8e59",
   "metadata": {},
   "source": [
    "## Python Conditional Statement Exercises\n"
   ]
  },
  {
   "cell_type": "code",
   "execution_count": null,
   "id": "d5693a9e",
   "metadata": {},
   "outputs": [
    {
     "name": "stdout",
     "output_type": "stream",
     "text": [
      "0 1 1 2 3 "
     ]
    }
   ],
   "source": [
    "# 1. Python Conditional Statement Exercises\n",
    "fib_n = int(input(\"Enter n for fib :\"))\n",
    "a,b=0,1\n",
    "for _ in range(fib_n):\n",
    "    print(a, end=\" \")\n",
    "    a,b=b,a+b\n",
    "\n",
    "def fibonacci_recursive(n):\n",
    "    if n <= 1:\n",
    "        return n\n",
    "    else:\n",
    "        return fibonacci_recursive(n-1) + fibonacci_recursive(n-2)\n",
    "\n",
    "# Print first 10 terms\n",
    "for i in range(10):\n",
    "    print(fibonacci_recursive(i), end=' ')\n"
   ]
  },
  {
   "cell_type": "code",
   "execution_count": 8,
   "id": "caf11de1",
   "metadata": {},
   "outputs": [
    {
     "name": "stdout",
     "output_type": "stream",
     "text": [
      "Not Prime\n"
     ]
    }
   ],
   "source": [
    "## 2. Check if a number is prime\n",
    "def isprime(prime_n):\n",
    "    for i in range(2,prime_n//2):\n",
    "        if prime_n%i == 0 :\n",
    "            print(\"Not Prime\")\n",
    "            return\n",
    "    print(\"Prime Number\")\n",
    "    return\n",
    "\n",
    "isprime(9)\n",
    "        "
   ]
  },
  {
   "cell_type": "code",
   "execution_count": 18,
   "id": "5a6411d4",
   "metadata": {},
   "outputs": [
    {
     "name": "stdout",
     "output_type": "stream",
     "text": [
      "7651\n"
     ]
    }
   ],
   "source": [
    "## 3. Reverse a number\n",
    "def revNum(rev_n):\n",
    "    rev = 0\n",
    "    while rev_n != 0 :\n",
    "        dig = rev_n%10\n",
    "        rev_n = rev_n//10\n",
    "        rev = rev * 10 + dig\n",
    "    print(rev)\n",
    "\n",
    "revNum(1567)"
   ]
  },
  {
   "cell_type": "code",
   "execution_count": 23,
   "id": "f8525ae8",
   "metadata": {},
   "outputs": [
    {
     "name": "stdout",
     "output_type": "stream",
     "text": [
      "3 4\n"
     ]
    }
   ],
   "source": [
    "## 4. Count vowels and consonants in a string\n",
    "def VCcount(VCstr):\n",
    "    v,c = 0 ,0\n",
    "    for ch in VCstr:\n",
    "        if ch.lower() in 'aeiou':\n",
    "            v = v+1\n",
    "        else : \n",
    "            c=c+1\n",
    "    print(v, c)\n",
    "\n",
    "VCcount(\"AYANdas\")\n"
   ]
  },
  {
   "cell_type": "code",
   "execution_count": 25,
   "id": "a1af934a",
   "metadata": {},
   "outputs": [
    {
     "name": "stdout",
     "output_type": "stream",
     "text": [
      "120\n"
     ]
    }
   ],
   "source": [
    "## 5. Find factorial using recursion\n",
    "def fact(fact_n):\n",
    "    if fact_n == 0 or fact_n == 1:\n",
    "        return 1\n",
    "    else:\n",
    "        return fact_n * fact(fact_n - 1)\n",
    "    \n",
    "num = 5\n",
    "print(fact(num))\n"
   ]
  }
 ],
 "metadata": {
  "kernelspec": {
   "display_name": "Python 3",
   "language": "python",
   "name": "python3"
  },
  "language_info": {
   "codemirror_mode": {
    "name": "ipython",
    "version": 3
   },
   "file_extension": ".py",
   "mimetype": "text/x-python",
   "name": "python",
   "nbconvert_exporter": "python",
   "pygments_lexer": "ipython3",
   "version": "3.12.0"
  }
 },
 "nbformat": 4,
 "nbformat_minor": 5
}
