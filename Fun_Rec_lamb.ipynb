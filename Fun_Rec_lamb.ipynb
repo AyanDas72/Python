{
 "cells": [
  {
   "cell_type": "markdown",
   "id": "05986cbb",
   "metadata": {},
   "source": [
    "### Functions, Recursion, Lambda, Map-Filter-Reduce\n",
    "\n",
    "Goal: Write reusable logic and explore functional programming."
   ]
  },
  {
   "cell_type": "code",
   "execution_count": 58,
   "id": "a523bd17",
   "metadata": {},
   "outputs": [],
   "source": [
    "from functools import reduce\n",
    "import time\n",
    "\n",
    "# Initialization\n",
    "arr = [2, 4, 6, 8, 10, 12, 14, 16]\n",
    "\n",
    "lst = [1,2,5,4,3,6,5,2,8]\n",
    "str1 = 'Ayan' \n",
    "\n",
    "sent = \"I am a good boy.\""
   ]
  },
  {
   "cell_type": "code",
   "execution_count": 61,
   "id": "6e8697a7",
   "metadata": {},
   "outputs": [
    {
     "name": "stdout",
     "output_type": "stream",
     "text": [
      "Element found at index 3\n"
     ]
    }
   ],
   "source": [
    "# 1. Recursive binary search\n",
    "def binary_search(arr, low, high, target):\n",
    "    if low > high:\n",
    "        return -1 \n",
    "\n",
    "    mid = (low + high) // 2\n",
    "\n",
    "    if arr[mid] == target:\n",
    "        return mid\n",
    "    elif arr[mid] > target:\n",
    "        return binary_search(arr, low, mid - 1, target)\n",
    "    else:\n",
    "        return binary_search(arr, mid + 1, high, target)\n",
    "\n",
    "\n",
    "target = 8\n",
    "\n",
    "\n",
    "result = binary_search(arr, 0, len(arr) - 1, target)\n",
    "\n",
    "if result != -1:\n",
    "    print(f\"Element found at index {result}\")\n",
    "else:\n",
    "    print(\"Element not found\")\n"
   ]
  },
  {
   "cell_type": "code",
   "execution_count": 7,
   "id": "0e6034a6",
   "metadata": {},
   "outputs": [
    {
     "data": {
      "text/plain": [
       "[1, 4, 25, 16, 9, 36, 25, 4, 64]"
      ]
     },
     "execution_count": 7,
     "metadata": {},
     "output_type": "execute_result"
    }
   ],
   "source": [
    "# 2. Use map() to square all list elements\n",
    "list(map(lambda x: x*x, lst))"
   ]
  },
  {
   "cell_type": "code",
   "execution_count": 13,
   "id": "ec77763c",
   "metadata": {},
   "outputs": [
    {
     "data": {
      "text/plain": [
       "[1, 5, 3, 5]"
      ]
     },
     "execution_count": 13,
     "metadata": {},
     "output_type": "execute_result"
    }
   ],
   "source": [
    "# 3. Use filter() to filter out odd numbers\n",
    "list(filter(lambda x : x%2, lst))"
   ]
  },
  {
   "cell_type": "code",
   "execution_count": 18,
   "id": "ce62087f",
   "metadata": {},
   "outputs": [
    {
     "name": "stdout",
     "output_type": "stream",
     "text": [
      "57600\n"
     ]
    }
   ],
   "source": [
    "# 4. Use reduce() to multiply list elements\n",
    "mul=reduce(lambda x,y: x*y,lst)\n",
    "print(mul)"
   ]
  },
  {
   "cell_type": "code",
   "execution_count": 24,
   "id": "dec29ad7",
   "metadata": {},
   "outputs": [
    {
     "name": "stdout",
     "output_type": "stream",
     "text": [
      "nayA\n"
     ]
    }
   ],
   "source": [
    "# 5. Create a lambda function to reverse a string\n",
    "strRev = lambda s : s[::-1]\n",
    "print(strRev(str1))"
   ]
  },
  {
   "cell_type": "code",
   "execution_count": null,
   "id": "baa514fc",
   "metadata": {},
   "outputs": [
    {
     "name": "stdout",
     "output_type": "stream",
     "text": [
      "First part of Decorator\n",
      "Function finished!\n",
      "Execution time: 2.001390 seconds\n"
     ]
    }
   ],
   "source": [
    "# 6. Decorator to print execution time\n",
    "\n",
    "def timer(func):\n",
    "    def wrapper(*args, **kwargs):\n",
    "        start = time.time()\n",
    "        print('First part of Decorator')\n",
    "        result = func(*args, **kwargs) ## Function \n",
    "        end = time.time()\n",
    "        print(f\"Execution time: {end - start:.6f} seconds\")\n",
    "        return result\n",
    "    return wrapper\n",
    "\n",
    "@timer #applies the decorator to the function\n",
    "def slow_function():\n",
    "    time.sleep(2)\n",
    "    print(\"Function finished!\")\n",
    "\n",
    "slow_function()\n"
   ]
  },
  {
   "cell_type": "code",
   "execution_count": 36,
   "id": "823d6225",
   "metadata": {},
   "outputs": [
    {
     "name": "stdout",
     "output_type": "stream",
     "text": [
      "Perfect Number.\n"
     ]
    }
   ],
   "source": [
    "# 7. Function to check perfect number\n",
    "\n",
    "def perfectNumber(n):\n",
    "    divisors = []\n",
    "    for i in range (1, 1+n):\n",
    "        if n==i:\n",
    "            break\n",
    "        if n%i==0:\n",
    "            divisors.append(i)\n",
    "\n",
    "    if sum(divisors)==n:\n",
    "        print(\"Perfect Number.\")\n",
    "    else:\n",
    "        print(\"Not a Perfect Number.\")\n",
    "\n",
    "perfectNumber(6)"
   ]
  },
  {
   "cell_type": "code",
   "execution_count": null,
   "id": "b3789333",
   "metadata": {},
   "outputs": [
    {
     "name": "stdout",
     "output_type": "stream",
     "text": [
      "5\n"
     ]
    }
   ],
   "source": [
    "# 8. Function to count words in a sentence\n",
    "def countWords(sent):\n",
    "    words = sent.split()   \n",
    "    return len(words)\n",
    "\n",
    "print(countWords(sent))"
   ]
  },
  {
   "cell_type": "code",
   "execution_count": 47,
   "id": "cf4d9f56",
   "metadata": {},
   "outputs": [
    {
     "name": "stdout",
     "output_type": "stream",
     "text": [
      "4\n"
     ]
    }
   ],
   "source": [
    "# 9. Recursive function to generate power of a number\n",
    "def power(x,n):\n",
    "    if n==0:\n",
    "        return 1\n",
    "    else:\n",
    "        return x * power(x,n-1)\n",
    "    \n",
    "print(power(2,2))"
   ]
  },
  {
   "cell_type": "code",
   "execution_count": 48,
   "id": "45effeca",
   "metadata": {},
   "outputs": [
    {
     "name": "stdout",
     "output_type": "stream",
     "text": [
      "15\n",
      "5\n",
      "50\n",
      "2.0\n"
     ]
    }
   ],
   "source": [
    "# 10. Create calculator using higher-order functions\n",
    "def add(a, b):\n",
    "    return a + b\n",
    "\n",
    "def subtract(a, b):\n",
    "    return a - b\n",
    "\n",
    "def multiply(a, b):\n",
    "    return a * b\n",
    "\n",
    "def divide(a, b):\n",
    "    if b != 0:\n",
    "        return a / b\n",
    "    else:\n",
    "        return \"Error! Division by zero\"\n",
    "    \n",
    "def calculator(a, b, operation): #Higher-order function\n",
    "    return operation(a, b)\n",
    "\n",
    "print(calculator(10, 5, add))      \n",
    "print(calculator(10, 5, subtract))  \n",
    "print(calculator(10, 5, multiply))  \n",
    "print(calculator(10, 5, divide))    \n",
    "\n"
   ]
  }
 ],
 "metadata": {
  "kernelspec": {
   "display_name": "Python 3",
   "language": "python",
   "name": "python3"
  },
  "language_info": {
   "codemirror_mode": {
    "name": "ipython",
    "version": 3
   },
   "file_extension": ".py",
   "mimetype": "text/x-python",
   "name": "python",
   "nbconvert_exporter": "python",
   "pygments_lexer": "ipython3",
   "version": "3.12.0"
  }
 },
 "nbformat": 4,
 "nbformat_minor": 5
}
