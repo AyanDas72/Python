{
 "cells": [
  {
   "cell_type": "markdown",
   "id": "46367ea8",
   "metadata": {},
   "source": [
    "## Python Data Structures - Lists, Tuples, Sets, Dictionaries"
   ]
  },
  {
   "cell_type": "code",
   "execution_count": 1,
   "id": "757f098c",
   "metadata": {},
   "outputs": [
    {
     "name": "stdout",
     "output_type": "stream",
     "text": [
      "[1, 2, 3, 4, 7, 8, 9]\n"
     ]
    }
   ],
   "source": [
    "## 1. Remove duplicates from a list\n",
    "\n",
    "lst = [1,2,2,3,3,4,1,2,2,3,7,7,7,8,8,9]\n",
    "unqLst=[]\n",
    "for i in lst:\n",
    "    if i in unqLst:\n",
    "        continue\n",
    "    else:\n",
    "        unqLst.append(i)\n",
    "print(unqLst)"
   ]
  },
  {
   "cell_type": "code",
   "execution_count": 5,
   "id": "add42c49",
   "metadata": {},
   "outputs": [
    {
     "name": "stdout",
     "output_type": "stream",
     "text": [
      "[(3, 1), (2, 4), (1, 5), (4, 8)]\n"
     ]
    }
   ],
   "source": [
    "## 3. Sort list of tuples by second value\n",
    "\n",
    "data = [(1, 5), (3, 1), (4, 8), (2, 4)]\n",
    "\n",
    "sorted_data = sorted(data, key=lambda x: x[1])\n",
    "print(sorted_data)\n"
   ]
  }
 ],
 "metadata": {
  "kernelspec": {
   "display_name": "Python 3",
   "language": "python",
   "name": "python3"
  },
  "language_info": {
   "codemirror_mode": {
    "name": "ipython",
    "version": 3
   },
   "file_extension": ".py",
   "mimetype": "text/x-python",
   "name": "python",
   "nbconvert_exporter": "python",
   "pygments_lexer": "ipython3",
   "version": "3.12.0"
  }
 },
 "nbformat": 4,
 "nbformat_minor": 5
}
