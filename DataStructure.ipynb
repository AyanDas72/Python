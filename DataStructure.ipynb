{
 "cells": [
  {
   "cell_type": "markdown",
   "id": "46367ea8",
   "metadata": {},
   "source": [
    "## Python Data Structures - Lists, Tuples, Sets, Dictionaries"
   ]
  },
  {
   "cell_type": "code",
   "execution_count": 1,
   "id": "757f098c",
   "metadata": {},
   "outputs": [
    {
     "name": "stdout",
     "output_type": "stream",
     "text": [
      "[1, 2, 3, 4, 7, 8, 9]\n"
     ]
    }
   ],
   "source": [
    "## 1. Remove duplicates from a list\n",
    "\n",
    "lst = [1,2,2,3,3,4,1,2,2,3,7,7,7,8,8,9]\n",
    "unqLst=[]\n",
    "for i in lst:\n",
    "    if i in unqLst:\n",
    "        continue\n",
    "    else:\n",
    "        unqLst.append(i)\n",
    "print(unqLst)"
   ]
  },
  {
   "cell_type": "code",
   "execution_count": 3,
   "id": "0b00d257",
   "metadata": {},
   "outputs": [
    {
     "name": "stdout",
     "output_type": "stream",
     "text": [
      "{'a': 1, 'b': 3, 'c': 4}\n"
     ]
    }
   ],
   "source": [
    "## 2.Merge two dictionaries\n",
    "\n",
    "dict1 = {'a': 1, 'b': 2}\n",
    "dict2 = {'b': 3, 'c': 4}\n",
    "\n",
    "merged_dict = dict1 | dict2  \n",
    "print(merged_dict)  \n"
   ]
  },
  {
   "cell_type": "code",
   "execution_count": null,
   "id": "add42c49",
   "metadata": {},
   "outputs": [
    {
     "name": "stdout",
     "output_type": "stream",
     "text": [
      "[(3, 1), (2, 4), (1, 5), (4, 8)]\n"
     ]
    }
   ],
   "source": [
    "## 2. Sort list of tuples by second value\n",
    "\n",
    "\n",
    "data = [(1, 5), (3, 1), (4, 8), (2, 4)]\n",
    "\n",
    "sorted_data = sorted(data, key=lambda x: x[1])\n",
    "print(sorted_data)\n"
   ]
  },
  {
   "cell_type": "code",
   "execution_count": 5,
   "id": "eafd3403",
   "metadata": {},
   "outputs": [
    {
     "name": "stdout",
     "output_type": "stream",
     "text": [
      "{1: 2, 2: 4, 3: 3, 4: 1, 7: 3, 8: 2, 9: 1}\n"
     ]
    }
   ],
   "source": [
    "## 4.Frequency count of list elements using dict\n",
    "lst = [1,2,2,3,3,4,1,2,2,3,7,7,7,8,8,9]\n",
    "freq={}\n",
    "\n",
    "for n in lst:\n",
    "    if n in freq:\n",
    "        freq[n]+=1\n",
    "    else:\n",
    "        freq[n]=1\n",
    "\n",
    "print(freq)"
   ]
  },
  {
   "cell_type": "code",
   "execution_count": null,
   "id": "2b08b1e0",
   "metadata": {},
   "outputs": [
    {
     "name": "stdout",
     "output_type": "stream",
     "text": [
      "{1, 2, 3, 4, 5, 6, 7}\n",
      "[1, 2, 3, 4, 5, 6, 7]\n"
     ]
    }
   ],
   "source": [
    "## 5.Convert list to set and vice versa\n",
    "lst = [1,2,3,4,5,6,7]\n",
    "\n",
    "my_set = set(lst)\n",
    "print(my_set)\n",
    "\n",
    "my_lst = list(my_set)\n",
    "print(my_lst)"
   ]
  },
  {
   "cell_type": "code",
   "execution_count": 10,
   "id": "d70a38c4",
   "metadata": {},
   "outputs": [
    {
     "name": "stdout",
     "output_type": "stream",
     "text": [
      "{1, 2, 3, 4, 5, 6, 7, 8, 9}\n",
      "{5}\n",
      "{1, 2, 3, 4}\n"
     ]
    }
   ],
   "source": [
    "## 6. Set operations: union, intersection, difference\n",
    "\n",
    "set1 = {1,2,3,4,5}\n",
    "set2 = {5,6,7,8,9}\n",
    "\n",
    "U = set1.union(set2)\n",
    "print(U)\n",
    "\n",
    "I = set1.intersection(set2)\n",
    "print(I)\n",
    "\n",
    "D = set1.difference(set2)\n",
    "print(D)"
   ]
  },
  {
   "cell_type": "code",
   "execution_count": 11,
   "id": "1a5e7a35",
   "metadata": {},
   "outputs": [
    {
     "name": "stdout",
     "output_type": "stream",
     "text": [
      "{'date': 1, 'banana': 2, 'apple': 5, 'cherry': 7}\n"
     ]
    }
   ],
   "source": [
    "## 7. Sort dictionary by values\n",
    "\n",
    "my_dict = {\"apple\": 5, \"banana\": 2, \"cherry\": 7, \"date\": 1}\n",
    "\n",
    "sorted_dict = dict(sorted(my_dict.items(), key=lambda x: x[1]))\n",
    "print(sorted_dict)\n"
   ]
  },
  {
   "cell_type": "code",
   "execution_count": 13,
   "id": "4a469ab8",
   "metadata": {},
   "outputs": [
    {
     "name": "stdout",
     "output_type": "stream",
     "text": [
      "{'a': 1, 'b': 2, 'c': 3}\n",
      "{'a': 1, 'b': 2, 'c': 3}\n"
     ]
    }
   ],
   "source": [
    "## 8. Create a dictionary from 2 lists\n",
    "\n",
    "keys = [\"a\", \"b\", \"c\"]\n",
    "values = [1, 2, 3]\n",
    "\n",
    "my_dict = dict(zip(keys, values))\n",
    "print(my_dict)\n",
    "\n",
    "#Dictionary Comprehension\n",
    "my_dict = {keys[i]: values[i] for i in range(len(keys))}\n",
    "print(my_dict)\n",
    "\n"
   ]
  }
 ],
 "metadata": {
  "kernelspec": {
   "display_name": "venv",
   "language": "python",
   "name": "python3"
  },
  "language_info": {
   "codemirror_mode": {
    "name": "ipython",
    "version": 3
   },
   "file_extension": ".py",
   "mimetype": "text/x-python",
   "name": "python",
   "nbconvert_exporter": "python",
   "pygments_lexer": "ipython3",
   "version": "3.13.0"
  }
 },
 "nbformat": 4,
 "nbformat_minor": 5
}
