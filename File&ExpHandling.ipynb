{
 "cells": [
  {
   "cell_type": "markdown",
   "id": "f94bf465",
   "metadata": {},
   "source": [
    "## File Handling & Exceptions"
   ]
  },
  {
   "cell_type": "code",
   "execution_count": 4,
   "id": "d351f74c",
   "metadata": {},
   "outputs": [
    {
     "name": "stdout",
     "output_type": "stream",
     "text": [
      "Number of lines :  5\n",
      "number of words :  25\n"
     ]
    }
   ],
   "source": [
    "# 1.Count number of lines and words in a file\n",
    "with open('text.txt','r') as file:\n",
    "    lines = file.readlines()\n",
    "    #print(content)\n",
    "\n",
    "line_count = len(lines)\n",
    "\n",
    "word_count = 0\n",
    "for line in lines:\n",
    "    words = line.split()\n",
    "    word_count += len(words)\n",
    "\n",
    "print(\"Number of lines : \", line_count)\n",
    "print(\"number of words : \",word_count)"
   ]
  },
  {
   "cell_type": "code",
   "execution_count": 6,
   "id": "fdafc113",
   "metadata": {},
   "outputs": [
    {
     "name": "stdout",
     "output_type": "stream",
     "text": [
      "Content transfer successfull\n"
     ]
    }
   ],
   "source": [
    "#2. Copy contents from one file to another\n",
    "with open('text.txt','r') as src:\n",
    "    content = src.read()\n",
    "\n",
    "with open('text2.txt','w') as dest:\n",
    "    dest.write(content)\n",
    "\n",
    "\n",
    "print(\"Content transfer successfull\")\n",
    "\n"
   ]
  },
  {
   "cell_type": "code",
   "execution_count": null,
   "id": "216e5225",
   "metadata": {},
   "outputs": [],
   "source": [
    "#3. Find the most frequent word in a file\n",
    "\n"
   ]
  },
  {
   "cell_type": "code",
   "execution_count": null,
   "id": "9f438d55",
   "metadata": {},
   "outputs": [],
   "source": [
    "#4.Read a CSV file and display contents\n",
    "\n"
   ]
  },
  {
   "cell_type": "code",
   "execution_count": null,
   "id": "16d64ece",
   "metadata": {},
   "outputs": [],
   "source": [
    "#5. Append data to a text file\n"
   ]
  },
  {
   "cell_type": "code",
   "execution_count": null,
   "id": "53ec8e1b",
   "metadata": {},
   "outputs": [],
   "source": [
    "#6. Handle division by zero and file not found exceptions\n"
   ]
  },
  {
   "cell_type": "code",
   "execution_count": null,
   "id": "e2078749",
   "metadata": {},
   "outputs": [],
   "source": [
    "#7.Custom exception for age validation\n",
    "\n"
   ]
  },
  {
   "cell_type": "code",
   "execution_count": null,
   "id": "04aadf33",
   "metadata": {},
   "outputs": [],
   "source": [
    "#8.Merge multiple text files into one"
   ]
  }
 ],
 "metadata": {
  "kernelspec": {
   "display_name": "Python 3",
   "language": "python",
   "name": "python3"
  },
  "language_info": {
   "codemirror_mode": {
    "name": "ipython",
    "version": 3
   },
   "file_extension": ".py",
   "mimetype": "text/x-python",
   "name": "python",
   "nbconvert_exporter": "python",
   "pygments_lexer": "ipython3",
   "version": "3.12.0"
  }
 },
 "nbformat": 4,
 "nbformat_minor": 5
}
