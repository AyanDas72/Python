{
 "cells": [
  {
   "cell_type": "markdown",
   "id": "f94bf465",
   "metadata": {},
   "source": [
    "## File Handling & Exceptions"
   ]
  },
  {
   "cell_type": "code",
   "execution_count": 30,
   "id": "d351f74c",
   "metadata": {},
   "outputs": [
    {
     "name": "stdout",
     "output_type": "stream",
     "text": [
      "Number of lines :  7\n",
      "number of words :  35\n"
     ]
    }
   ],
   "source": [
    "# 1.Count number of lines and words in a file\n",
    "with open('Data_&_text/text.txt','r') as file:\n",
    "    lines = file.readlines()\n",
    "    #print(content)\n",
    "\n",
    "line_count = len(lines)\n",
    "\n",
    "word_count = 0\n",
    "for line in lines:\n",
    "    words = line.split()\n",
    "    word_count += len(words)\n",
    "\n",
    "print(\"Number of lines : \", line_count)\n",
    "print(\"number of words : \",word_count)"
   ]
  },
  {
   "cell_type": "code",
   "execution_count": null,
   "id": "fdafc113",
   "metadata": {},
   "outputs": [
    {
     "name": "stdout",
     "output_type": "stream",
     "text": [
      "Content transfer successfull\n"
     ]
    }
   ],
   "source": [
    "#2. Copy contents from one file to another\n",
    "with open('Data_&_text/text.txt','r') as src:\n",
    "    content = src.read()\n",
    "\n",
    "with open('Data_&_text/text2.txt','w') as dest:\n",
    "    dest.write(content)\n",
    "\n",
    "\n",
    "print(\"Content transfer successfull\")\n",
    "\n"
   ]
  },
  {
   "cell_type": "code",
   "execution_count": null,
   "id": "216e5225",
   "metadata": {},
   "outputs": [
    {
     "name": "stdout",
     "output_type": "stream",
     "text": [
      "apple\n"
     ]
    }
   ],
   "source": [
    "#3. Find the most frequent word in a file\n",
    "with open('Data_&_text/text.txt','r') as src:\n",
    "    content = src.read()\n",
    "\n",
    "words = content.split()\n",
    "\n",
    "freq = {}\n",
    "for word in words :\n",
    "    word = word.lower()\n",
    "    freq[word] = freq.get(word,0)+1\n",
    "\n",
    "max_word = max(freq,key=freq.get)\n",
    "print(max_word)\n"
   ]
  },
  {
   "cell_type": "code",
   "execution_count": 28,
   "id": "9f438d55",
   "metadata": {},
   "outputs": [
    {
     "name": "stdout",
     "output_type": "stream",
     "text": [
      "['ame', 'Age', 'City']\n",
      "['Ayan', '20', 'Howrah']\n",
      "['Riya', '22', 'Kolkata']\n",
      "['Rahul', '21', 'Delhi']\n",
      "['Sneha', '23', 'Mumbai']\n",
      "['Arjun', '19', 'Chennai']\n"
     ]
    }
   ],
   "source": [
    "#4.Read a CSV file and display contents\n",
    "import csv\n",
    "\n",
    "with open('Data_&_text/data.csv','r') as files:\n",
    "    reader = csv.reader(files)\n",
    "    for row in reader:\n",
    "        print(row)\n"
   ]
  },
  {
   "cell_type": "code",
   "execution_count": null,
   "id": "16d64ece",
   "metadata": {},
   "outputs": [
    {
     "name": "stdout",
     "output_type": "stream",
     "text": [
      "Sun glides across the silent wire.\n",
      "blue blue blue\n",
      "quick fox jumps over lazy dog\n",
      "apple orange banana apple\n",
      "Lorem ipsum dolor sit amet consectetur\n",
      "apple apple Apple\n",
      "Appended a line successfully! -- new line\n"
     ]
    }
   ],
   "source": [
    "#5. Append data to a text file\n",
    "with open('Data_&_text/text.txt','a') as files:\n",
    "    files.write(\"\\nAppended a line successfully! -- new line\")\n",
    "\n",
    "with open('Data_&_text/text.txt','r') as src:\n",
    "    content = src.read()\n",
    "    print(content)"
   ]
  },
  {
   "cell_type": "code",
   "execution_count": null,
   "id": "53ec8e1b",
   "metadata": {},
   "outputs": [
    {
     "name": "stdout",
     "output_type": "stream",
     "text": [
      "Error : File Not Found.\n"
     ]
    }
   ],
   "source": [
    "#6. Handle division by zero and file not found exceptions\n",
    "a = 6\n",
    "b = 4\n",
    "try :\n",
    "    c = a/b\n",
    "    with open('Data_&_text/text3.txt','r') as file:\n",
    "        content = file.read()\n",
    "\n",
    "except ZeroDivisionError:\n",
    "    print(\"Error : Divided by zero is not possible.\")\n",
    "\n",
    "except FileNotFoundError:\n",
    "    print(\"Error : File Not Found.\")\n",
    "\n"
   ]
  },
  {
   "cell_type": "code",
   "execution_count": null,
   "id": "e2078749",
   "metadata": {},
   "outputs": [
    {
     "name": "stdout",
     "output_type": "stream",
     "text": [
      "Caught an error : Age Must Be >= 18(age Error)\n"
     ]
    }
   ],
   "source": [
    "#7.Custom exception for age validation\n",
    "class AgeError(Exception):\n",
    "    def __init__(self, age, message=\"Age Must Be >= 18\"):\n",
    "        self.age = age\n",
    "        self.message = message\n",
    "        super().__init__(self.message)\n",
    "\n",
    "try:\n",
    "    age = 15\n",
    "    if age < 18 :\n",
    "        raise AgeError(age)\n",
    "except AgeError as e :\n",
    "    print(f\"Caught an error : {e}(age Error)\")\n"
   ]
  },
  {
   "cell_type": "code",
   "execution_count": 35,
   "id": "04aadf33",
   "metadata": {},
   "outputs": [
    {
     "name": "stdout",
     "output_type": "stream",
     "text": [
      "Conten Entered Successfully\n"
     ]
    }
   ],
   "source": [
    "#8.Merge multiple text files into one\n",
    "with open('Data_&_text/tex1.txt','r') as src1:\n",
    "    content1 = src1.read()\n",
    "with open('Data_&_text/tex2.txt','r') as src2:\n",
    "    content2 = src2.read()\n",
    "with open('Data_&_text/tex3.txt','r') as src3:\n",
    "    content3 = src3.read()\n",
    "\n",
    "with open('Data_&_text/dest.txt','w') as dest:\n",
    "    dest.write(content1 + '\\n')\n",
    "    dest.write(content2 + '\\n')\n",
    "    dest.write(content3 + '\\n')\n",
    "    print(\"Conten Entered Successfully\")\n",
    "\n",
    "\n",
    "#optimized way\n",
    "#files = ['tex1.txt', 'tex2.txt', 'tex3.txt']\n",
    "\n",
    "#with open('dest.txt','w') as dest:\n",
    "#   for file in files:\n",
    "#       with open(file, 'r') as f:\n",
    "#           dest.write(f.read() + '\\n')\n",
    "            \n"
   ]
  }
 ],
 "metadata": {
  "kernelspec": {
   "display_name": "Python 3",
   "language": "python",
   "name": "python3"
  },
  "language_info": {
   "codemirror_mode": {
    "name": "ipython",
    "version": 3
   },
   "file_extension": ".py",
   "mimetype": "text/x-python",
   "name": "python",
   "nbconvert_exporter": "python",
   "pygments_lexer": "ipython3",
   "version": "3.12.0"
  }
 },
 "nbformat": 4,
 "nbformat_minor": 5
}
