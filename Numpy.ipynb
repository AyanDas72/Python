{
 "cells": [
  {
   "cell_type": "markdown",
   "id": "4471d4f1",
   "metadata": {},
   "source": [
    "## Numpy Lerning\n",
    "\n",
    "It is a fundamental library for scientific computing in python.\n"
   ]
  },
  {
   "cell_type": "code",
   "execution_count": null,
   "id": "951bb9d1",
   "metadata": {},
   "outputs": [],
   "source": [
    "import numpy as np\n"
   ]
  }
 ],
 "metadata": {
  "kernelspec": {
   "display_name": "Python 3",
   "language": "python",
   "name": "python3"
  },
  "language_info": {
   "name": "python",
   "version": "3.12.0"
  }
 },
 "nbformat": 4,
 "nbformat_minor": 5
}
