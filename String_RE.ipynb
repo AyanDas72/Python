{
 "cells": [
  {
   "cell_type": "markdown",
   "id": "d837ae0d",
   "metadata": {},
   "source": [
    "### Day 4: Strings & Regular Expressions\n",
    "\n",
    "Goal: Strengthen string handling and pattern matching."
   ]
  },
  {
   "cell_type": "code",
   "execution_count": 2,
   "id": "b7310740",
   "metadata": {},
   "outputs": [],
   "source": [
    "import re"
   ]
  },
  {
   "cell_type": "code",
   "execution_count": 6,
   "id": "58f9a1b4",
   "metadata": {},
   "outputs": [
    {
     "name": "stdout",
     "output_type": "stream",
     "text": [
      "ayanDas@gmail.com : True\n",
      "AyanDas567.7@yahoo.com : True\n",
      "fwejnfn@di78dhbo-k : False\n"
     ]
    }
   ],
   "source": [
    "# 1. Check for valid email using regex\n",
    " \n",
    "def is_valid_email(email):\n",
    "    pattern = r'^[a-zA-Z0-9+.-]+@[a-zA-Z0-9+.-]+\\.[a-zA-Z0-9.-]+$'\n",
    "    if re.match(pattern, email):\n",
    "        return True\n",
    "    else:\n",
    "        return False\n",
    "\n",
    "email = ['ayanDas@gmail.com','AyanDas567.7@yahoo.com','fwejnfn@di78dhbo-k']\n",
    "for i in email:\n",
    "    print(f\"{i} : {is_valid_email(i)}\")"
   ]
  },
  {
   "cell_type": "code",
   "execution_count": 8,
   "id": "9d51ec8b",
   "metadata": {},
   "outputs": [
    {
     "name": "stdout",
     "output_type": "stream",
     "text": [
      "ayan@$567 : weak\n",
      "eRt&*8546 : strong\n"
     ]
    }
   ],
   "source": [
    "# 2. Validate strong password using regex\n",
    "\n",
    "def is_strong_Pw(p):\n",
    "    pattern = r'^(?=.*[a-z])(?=.*[A-Z])(?=.*\\d)(?=.*[@$!%*?&])[A-Za-z\\d@$!%*?&]{8,}$'\n",
    "    if re.match(pattern,p):\n",
    "        return True\n",
    "    else:\n",
    "        return False\n",
    "\n",
    "pw = ['ayan@$567','eRt&*8546'] \n",
    "\n",
    "for p in pw:\n",
    "    print(f'{p} : {\"strong\" if is_strong_Pw(p)==True else \"weak\"}')"
   ]
  },
  {
   "cell_type": "code",
   "execution_count": 9,
   "id": "9e24e802",
   "metadata": {},
   "outputs": [
    {
     "name": "stdout",
     "output_type": "stream",
     "text": [
      "['An', 'apple', 'a', 'anxiety', 'away', 'and', 'ants', 'active', 'always']\n"
     ]
    }
   ],
   "source": [
    "# 3. Find all words starting with 'a'\n",
    "text = \"An apple a day keeps anxiety away and ants active always.\"\n",
    "words = re.findall(r'\\b[aA]\\w*', text)\n",
    "\n",
    "print(words)"
   ]
  },
  {
   "cell_type": "code",
   "execution_count": 10,
   "id": "1b4c6dc7",
   "metadata": {},
   "outputs": [
    {
     "name": "stdout",
     "output_type": "stream",
     "text": [
      "Hello My name is Ayan123  I love Python2025\n"
     ]
    }
   ],
   "source": [
    "# 4. Remove special characters from string\n",
    "text = \"Hello!! My name is Ayan_123 & I love Python@2025.\"\n",
    "\n",
    "newText = re.sub(r'[^a-zA-Z0-9 ]+','',text)\n",
    "print(newText)"
   ]
  },
  {
   "cell_type": "code",
   "execution_count": 15,
   "id": "06420a78",
   "metadata": {},
   "outputs": [
    {
     "name": "stdout",
     "output_type": "stream",
     "text": [
      "This is a sentence with too many spaces.\n"
     ]
    }
   ],
   "source": [
    "# 5. Replace multiple spaces with single space\n",
    "text = \"This   is     a    sentence     with  too   many    spaces.\"\n",
    "\n",
    "cleanText = re.sub(r'\\s+', ' ', text)\n",
    "\n",
    "print(cleanText)"
   ]
  },
  {
   "cell_type": "code",
   "execution_count": 11,
   "id": "e19784dc",
   "metadata": {},
   "outputs": [
    {
     "name": "stdout",
     "output_type": "stream",
     "text": [
      "Hello World, This Is Python Programming.\n"
     ]
    }
   ],
   "source": [
    "# 6. Capitalize first letter of every word\n",
    "text = \"hello world, this is python programming.\"\n",
    "\n",
    "capitalized = text.title()\n",
    "\n",
    "print(capitalized)\n"
   ]
  },
  {
   "cell_type": "code",
   "execution_count": 14,
   "id": "8736998b",
   "metadata": {},
   "outputs": [
    {
     "name": "stdout",
     "output_type": "stream",
     "text": [
      "Lines: 3\n",
      "Words: 14\n",
      "Characters: 82\n"
     ]
    }
   ],
   "source": [
    "# 7. Count words, lines, characters in text\n",
    "text = \"\"\"Python is powerful.\n",
    "It is easy to learn.\n",
    "Let's count words, lines, and characters!\"\"\"\n",
    "\n",
    "lines = text.splitlines()\n",
    "num_lines = len(lines)\n",
    "\n",
    "words = text.split()\n",
    "num_words = len(words)\n",
    "\n",
    "num_chars = len(text)\n",
    "\n",
    "print(f\"Lines: {num_lines}\")\n",
    "print(f\"Words: {num_words}\")\n",
    "print(f\"Characters: {num_chars}\")\n"
   ]
  },
  {
   "cell_type": "code",
   "execution_count": 13,
   "id": "d5d96a2a",
   "metadata": {},
   "outputs": [
    {
     "name": "stdout",
     "output_type": "stream",
     "text": [
      "True\n"
     ]
    }
   ],
   "source": [
    "# 8. Check if two strings are anagrams\n",
    "def are_anagrams(str1, str2):\n",
    "    str1 = str1.replace(\" \", \"\").lower()\n",
    "    str2 = str2.replace(\" \", \"\").lower()\n",
    "\n",
    "    return sorted(str1) == sorted(str2)\n",
    "\n",
    "print(are_anagrams(\"listen\", \"silent\"))    "
   ]
  },
  {
   "cell_type": "code",
   "execution_count": 12,
   "id": "79d38e0c",
   "metadata": {},
   "outputs": [
    {
     "name": "stdout",
     "output_type": "stream",
     "text": [
      "abc\n"
     ]
    }
   ],
   "source": [
    "# 9. Find longest substring without repeating characters------------------Imp interview Q\n",
    "def longest_unique_substring(s):\n",
    "    start = 0\n",
    "    max_length = 0\n",
    "    start_index = 0\n",
    "    used_chars = {}\n",
    "\n",
    "    for index, char in enumerate(s):\n",
    "        if char in used_chars and start <= used_chars[char]:\n",
    "            start = used_chars[char] + 1\n",
    "        used_chars[char] = index\n",
    "        if index - start + 1 > max_length:\n",
    "            max_length = index - start + 1\n",
    "            start_index = start\n",
    "    return s[start_index:start_index + max_length]\n",
    "\n",
    "print(longest_unique_substring(\"abcabcbb\"))"
   ]
  },
  {
   "cell_type": "code",
   "execution_count": null,
   "id": "8db46825",
   "metadata": {},
   "outputs": [
    {
     "name": "stdout",
     "output_type": "stream",
     "text": [
      "['12-10-2025', '05/11/2025', '2025.12.25']\n"
     ]
    }
   ],
   "source": [
    "# 10. Extract dates from a string using regex\n",
    "text = \"The meeting is on 12-10-2025 and the next one is on 05/11/2025 or 2025.12.25.\"\n",
    "\n",
    "# (dd-mm-yyyy, dd/mm/yyyy, yyyy.mm.dd)\n",
    "pattern = r'\\b(?:\\d{2}[-/]\\d{2}[-/]\\d{4}|\\d{4}[.-]\\d{2}[.-]\\d{2})\\b'\n",
    "\n",
    "dates = re.findall(pattern, text)\n",
    "\n",
    "\n",
    "print(dates)\n"
   ]
  }
 ],
 "metadata": {
  "kernelspec": {
   "display_name": "Python 3",
   "language": "python",
   "name": "python3"
  },
  "language_info": {
   "codemirror_mode": {
    "name": "ipython",
    "version": 3
   },
   "file_extension": ".py",
   "mimetype": "text/x-python",
   "name": "python",
   "nbconvert_exporter": "python",
   "pygments_lexer": "ipython3",
   "version": "3.12.0"
  }
 },
 "nbformat": 4,
 "nbformat_minor": 5
}
